{
  "nbformat": 4,
  "nbformat_minor": 0,
  "metadata": {
    "colab": {
      "name": "Elmo_tutorial.ipynb",
      "version": "0.3.2",
      "provenance": [],
      "toc_visible": true
    },
    "language_info": {
      "codemirror_mode": {
        "name": "ipython",
        "version": 3
      },
      "file_extension": ".py",
      "mimetype": "text/x-python",
      "name": "python",
      "nbconvert_exporter": "python",
      "pygments_lexer": "ipython3",
      "version": "3.6.4"
    },
    "kernelspec": {
      "name": "python3",
      "display_name": "Python 3"
    },
    "accelerator": "GPU"
  },
  "cells": [
    {
      "cell_type": "markdown",
      "metadata": {
        "id": "MVTGz-dC6ut5",
        "colab_type": "text"
      },
      "source": [
        "# Elmo - A short Tutorial\n"
      ]
    },
    {
      "cell_type": "code",
      "metadata": {
        "id": "gSsTSY936ut8",
        "colab_type": "code",
        "colab": {}
      },
      "source": [
        "%matplotlib inline\n",
        "import tensorflow as tf\n",
        "import tensorflow_hub as hub\n",
        "import matplotlib.pyplot as plt\n",
        "import numpy as np\n",
        "from sklearn.manifold import TSNE\n",
        "from tensorflow.examples.tutorials.mnist import input_data\n",
        "from tensorflow.contrib.tensorboard.plugins import projector"
      ],
      "execution_count": 0,
      "outputs": []
    },
    {
      "cell_type": "markdown",
      "metadata": {
        "id": "LlUrvU8p6ut_",
        "colab_type": "text"
      },
      "source": [
        "## Pre Trained Elmo Model:"
      ]
    },
    {
      "cell_type": "markdown",
      "metadata": {
        "id": "7QsEkjub6uuA",
        "colab_type": "text"
      },
      "source": [
        "### Loading the Elmo Model\n",
        "\n",
        "\n",
        "The model trained on One Billion World Language Model Benchmark (http://www.statmt.org/lm-benchmark/) as been exposed on Tensorflow Hub. This can be loaded as :"
      ]
    },
    {
      "cell_type": "code",
      "metadata": {
        "id": "9tvdiyzc6uuA",
        "colab_type": "code",
        "colab": {}
      },
      "source": [
        "elmo = hub.Module(\"https://tfhub.dev/google/elmo/2\", trainable=True)"
      ],
      "execution_count": 0,
      "outputs": []
    },
    {
      "cell_type": "markdown",
      "metadata": {
        "id": "AC547E1K6uuF",
        "colab_type": "text"
      },
      "source": [
        "We set the trainable parameter to True when creating the module so that the 4 scalar weights (as described in the paper) and all LSTM cell variables can be trained. In this setting, the module still keeps all other parameters fixed.\n",
        "This will help to get the embedding of a word the model has not seen, given the context."
      ]
    },
    {
      "cell_type": "markdown",
      "metadata": {
        "id": "WNlOehO96uuG",
        "colab_type": "text"
      },
      "source": [
        "## Structure\n",
        "The elmo model consists of two files:\n",
        "\n",
        "**options.json** : These are the parameters/options using which the language model was trained on  <br>\n",
        "\n",
        "**weights.hdf5** : The weights file for the best model\n",
        "\n",
        "\n",
        "The input to the pre trained model (elmo) above can be fed in two different ways:\n",
        "\n",
        " ### 1. **Tokens**"
      ]
    },
    {
      "cell_type": "code",
      "metadata": {
        "id": "c1BST2266uuG",
        "colab_type": "code",
        "colab": {}
      },
      "source": [
        "tokens_input = [[\"Argentina\", \"played\", \"football\", \"very\", \"well\",\"\",\"\",\"\",\"\"],\n",
        "                [\"Brazil\",\"is\",\"a\",\"strong\",\"team\",\"\",\"\",\"\",\"\"],\n",
        "                [\"Artists\",\"all\",\"over\",\"the\",\"world\",\"are\",\"attending\",\"the\",\"play\"],\n",
        "                [\"Child\",\"is\",\"playing\",\"the\",\"guitar\",\"\",\"\",\"\",\"\"],\n",
        "                [\"There\",\"was\",\"absolute\",\"silence\",\"during\",\"the\",\"play\",\"\",\"\"]]\n",
        "\n",
        "tokens_length = [5,5,9,5,7]\n",
        "embeddings = elmo(inputs={\"tokens\": tokens_input,\"sequence_len\": tokens_length},\n",
        "                  signature=\"tokens\",\n",
        "                  as_dict=True)[\"elmo\"]"
      ],
      "execution_count": 0,
      "outputs": []
    },
    {
      "cell_type": "markdown",
      "metadata": {
        "id": "k-Xy1XXL6uuI",
        "colab_type": "text"
      },
      "source": [
        "### 2. **Default**"
      ]
    },
    {
      "cell_type": "code",
      "metadata": {
        "id": "qj4IW5hD6uuJ",
        "colab_type": "code",
        "colab": {}
      },
      "source": [
        "embeddings = elmo([\"Argentina played football very well\",\"Brazil is a strong team\", \n",
        "                   \"Artists all over the world are attending the play\", \n",
        "                   \"Child is playing the guitar\", \n",
        "                   \"There was absolute silence during the play\"],\n",
        "             signature=\"default\",\n",
        "             as_dict=True)[\"elmo\"]"
      ],
      "execution_count": 0,
      "outputs": []
    },
    {
      "cell_type": "markdown",
      "metadata": {
        "id": "AlI9QkFJ6uuL",
        "colab_type": "text"
      },
      "source": [
        "**Inputs**\n",
        "\n",
        "The module defines two signatures: tokens and default.\n",
        "\n",
        "With the tokens signature, the module takes tokenized sentences as input. The input tensor is a string tensor with shape [batch_size, max_length] and an int32 tensor with shape [batch_size] corresponding to the sentence length. The length input is necessary to exclude padding in the case of sentences with varying length.\n",
        "\n",
        "In case of above Example:\n",
        "\n",
        "    Each element contains one layer of ELMo representations with shape\n",
        "    (5, 9, 1024).\n",
        "     5    - the batch size\n",
        "     9    - the sequence length of the batch\n",
        "     1024 - the dimension of each ELMo vector\n",
        "\n",
        "With the default signature, the module takes untokenized sentences as input. The input tensor is a string tensor with shape [batch_size]. The module tokenizes each string by splitting on spaces.\n",
        "\n",
        "\n",
        "\n",
        "\n",
        "**Outputs**\n",
        "\n",
        "The output (_embeddings_) is a dictionary with following keys:\n",
        "\n",
        "  - word_emb: the character-based word representations with shape [batch_size, max_length, 512].\n",
        "  - lstm_outputs1: the first LSTM hidden state with shape [batch_size, max_length, 1024].\n",
        "  - lstm_outputs2: the second LSTM hidden state with shape [batch_size, max_length, 1024].\n",
        "  - elmo: the weighted sum of the 3 layers, where the weights are trainable. This tensor has shape [batch_size, max_length, 1024]\n",
        "  - default: a fixed mean-pooling of all contextualized word representations with shape [batch_size, 1024].\n",
        "  \n",
        "  The \"elmo\" value is selected.\n"
      ]
    },
    {
      "cell_type": "code",
      "metadata": {
        "id": "_ir9rKOY6uuM",
        "colab_type": "code",
        "colab": {
          "base_uri": "https://localhost:8080/",
          "height": 262
        },
        "outputId": "e7eb555b-3a1d-4eef-c717-20e4d5e1356a"
      },
      "source": [
        "init = tf.initialize_all_variables()\n",
        "sess = tf.Session()\n",
        "sess.run(init)\n",
        "\n",
        "print(\"Argentina\")\n",
        "print(sess.run(embeddings[0][0]))\n",
        "\n",
        "print(\"played\")\n",
        "print(sess.run(embeddings[0][1]))\n",
        "\n",
        "print(\"play - Theatre\")\n",
        "print(sess.run(embeddings[4][6]))\n"
      ],
      "execution_count": 4,
      "outputs": [
        {
          "output_type": "stream",
          "text": [
            "WARNING: Logging before flag parsing goes to stderr.\n",
            "W0625 13:56:37.834726 140005196986240 deprecation.py:323] From /usr/local/lib/python3.6/dist-packages/tensorflow/python/util/tf_should_use.py:193: initialize_all_variables (from tensorflow.python.ops.variables) is deprecated and will be removed after 2017-03-02.\n",
            "Instructions for updating:\n",
            "Use `tf.global_variables_initializer` instead.\n"
          ],
          "name": "stderr"
        },
        {
          "output_type": "stream",
          "text": [
            "Argentina\n",
            "[-0.5879139  -0.02317341 -0.13742943 ...  0.03679211  0.17688562\n",
            "  0.15371267]\n",
            "played\n",
            "[ 0.32413638 -0.00957295  0.44012934 ... -0.12727782  0.8984945\n",
            "  0.44063976]\n",
            "play - Theatre\n",
            "[-0.7186061  -0.0841499  -0.29193258 ...  0.11764731 -0.26124093\n",
            "  0.4482723 ]\n"
          ],
          "name": "stdout"
        }
      ]
    },
    {
      "cell_type": "code",
      "metadata": {
        "id": "e3ptLeCJ7cFl",
        "colab_type": "code",
        "colab": {
          "base_uri": "https://localhost:8080/",
          "height": 35
        },
        "outputId": "c9722d83-931e-4902-98b5-ef0d6c3f3d1d"
      },
      "source": [
        "print(embeddings[4][6].shape)"
      ],
      "execution_count": 5,
      "outputs": [
        {
          "output_type": "stream",
          "text": [
            "(1024,)\n"
          ],
          "name": "stdout"
        }
      ]
    },
    {
      "cell_type": "markdown",
      "metadata": {
        "id": "MlCBo2_Q6uuO",
        "colab_type": "text"
      },
      "source": [
        "### Getting the Embeddings:\n",
        "\n",
        "Firstly, initialise the session:\n",
        "\n",
        "        init = tf.initialize_all_variables()\n",
        "        sess = tf.Session()\n",
        "        sess.run(init)\n",
        "\n",
        "The embeddings for any token can be obtained using _embeddings_ and passing the position of the token.\n",
        "\n",
        "For Example:\n",
        "\n",
        "**Argentina** ([0][0])\n",
        "\n",
        "    print(sess.run(embeddings[0][0]))\n",
        "\n",
        "**played** ([0][1])\n",
        "\n",
        "    print(sess.run(embeddings[0][1]))\n",
        "    \n",
        "**play**  ([4][6])\n",
        "\n",
        "    print(sess.run(embeddings[4][6]))\n"
      ]
    },
    {
      "cell_type": "markdown",
      "metadata": {
        "id": "OiQuXXjQ6uuP",
        "colab_type": "text"
      },
      "source": [
        "### Visualizing the Embeddings \n",
        "\n",
        "#### 1. **t-SNE**"
      ]
    },
    {
      "cell_type": "code",
      "metadata": {
        "id": "g39n-eiA6uuQ",
        "colab_type": "code",
        "colab": {}
      },
      "source": [
        "def tsne_plot():\n",
        "    \"Creates and TSNE model and plots it\"\n",
        "    labels = []\n",
        "    tokens = []\n",
        "    \n",
        "    import tensorflow as tf\n",
        "    import sys\n",
        "    np.set_printoptions(threshold=sys.maxsize)\n",
        "\n",
        "    tokens_input = [[\"Argentina\", \"played\", \"football\", \"very\", \"well\",\"\",\"\",\"\",\"\"],\n",
        "                [\"Brazil\",\"is\",\"a\",\"strong\",\"team\",\"\",\"\",\"\",\"\"],\n",
        "                [\"Artists\",\"all\",\"over\",\"the\",\"world\",\"are\",\"attending\",\"the\",\"play\"],\n",
        "                [\"Child\",\"is\",\"playing\",\"the\",\"guitar\",\"\",\"\",\"\",\"\"],\n",
        "                [\"There\",\"was\",\"absolute\",\"silence\",\"during\",\"the\",\"play\",\"\",\"\"]]\n",
        "\n",
        "    tokens_length = [5,5,9,5,7]\n",
        "    embeddings = elmo(inputs={\"tokens\": tokens_input,\"sequence_len\": tokens_length},\n",
        "                      signature=\"tokens\",\n",
        "                      as_dict=True)[\"elmo\"]\n",
        "\n",
        "\n",
        "\n",
        "    init = tf.initialize_all_variables()\n",
        "    sess = tf.Session()\n",
        "    sess.run(init)\n",
        "    sent = [\"Argentina\", \"played\", \"football\", \"very\", \"well\"]\n",
        "    sent1 = [\"Brazil\",\"is\",\"a\",\"strong\",\"team\"]\n",
        "    sent2 = [\"Artists\",\"all\",\"over\",\"the\",\"world\",\"are\",\"attending\",\"the\",\"play\"]\n",
        "    sent3 = [\"Child\",\"is\",\"playing\",\"the\",\"guitar\"]\n",
        "    sent4 = [\"There\",\"was\",\"absolute\",\"silence\",\"during\",\"the\",\"play\"]\n",
        "    \n",
        "\n",
        "    for i in range(len(sent)):\n",
        "        tokens.append(sess.run(embeddings[0][i]))\n",
        "        labels.append(sent[i])  \n",
        "    for i in range(len(sent1)):\n",
        "        tokens.append(sess.run(embeddings[1][i]))\n",
        "        labels.append(sent1[i])\n",
        "    for i in range(len(sent2)):\n",
        "        tokens.append(sess.run(embeddings[2][i]))\n",
        "        labels.append(sent2[i])\n",
        "    for i in range(len(sent3)):\n",
        "        tokens.append(sess.run(embeddings[3][i]))\n",
        "        labels.append(sent3[i])  \n",
        "    for i in range(len(sent4)):\n",
        "        tokens.append(sess.run(embeddings[4][i]))\n",
        "        labels.append(sent4[i])\n",
        "    \n",
        "    tsne_model = TSNE(perplexity=6, n_components=2, init='random', n_iter=500)\n",
        "    new_values = tsne_model.fit_transform(tokens)\n",
        "\n",
        "    x = []\n",
        "    y = []\n",
        "    for value in new_values:\n",
        "        x.append(value[0])\n",
        "        y.append(value[1])\n",
        "        \n",
        "    plt.figure(figsize=(18, 12)) \n",
        "    for i in range(len(x)):\n",
        "        plt.scatter(x[i],y[i])\n",
        "        plt.annotate(labels[i],\n",
        "                     xy=(x[i], y[i]),\n",
        "                     xytext=(5, 2),\n",
        "                     textcoords='offset points',\n",
        "                     ha='right',\n",
        "                     va='bottom')\n",
        "    plt.show()"
      ],
      "execution_count": 0,
      "outputs": []
    },
    {
      "cell_type": "code",
      "metadata": {
        "id": "k84F59WP6uuS",
        "colab_type": "code",
        "colab": {
          "base_uri": "https://localhost:8080/",
          "height": 705
        },
        "outputId": "e93a45e0-e774-471c-f327-32e0774c2574"
      },
      "source": [
        "tsne_plot()"
      ],
      "execution_count": 7,
      "outputs": [
        {
          "output_type": "display_data",
          "data": {
            "image/png": "[encoded data removed]",
            "text/plain": [
              "<Figure size 1296x864 with 1 Axes>"
            ]
          },
          "metadata": {
            "tags": []
          }
        }
      ]
    },
    {
      "cell_type": "markdown",
      "metadata": {
        "id": "1TqzBkg06uuZ",
        "colab_type": "text"
      },
      "source": [
        "We see that \"play\" has been used in different context and Elmo is able to distinguish."
      ]
    },
    {
      "cell_type": "markdown",
      "metadata": {
        "id": "5cLTtaK96uua",
        "colab_type": "text"
      },
      "source": [
        "### 2. **Tensorboard**\n",
        "\n",
        "Visualizing using Tensorboard involves the following:\n"
      ]
    },
    {
      "cell_type": "markdown",
      "metadata": {
        "id": "eaH2EZku6uua",
        "colab_type": "text"
      },
      "source": [
        "- **Preparing the Batch** (embedding matrix) <br>\n",
        "    \n",
        "   The batch is an embedding matrix of shape **(_tokens_ , embedding dimension)** where each      entry is the embedding of the token at that position."
      ]
    },
    {
      "cell_type": "code",
      "metadata": {
        "id": "Zu7KEigw6uub",
        "colab_type": "code",
        "colab": {}
      },
      "source": [
        "def prepare_batch():\n",
        "    \"Creates matrix for embeddings\"\n",
        "    \n",
        "    sent =  [\"Argentina\", \"played\", \"football\", \"very\", \"well\"]\n",
        "    sent1 = [\"Brazil\",\"is\",\"a\",\"strong\",\"team\"]\n",
        "    sent2 = [\"Artists\",\"all\",\"over\",\"the\",\"world\",\"are\",\"attending\",\"the\",\"play\"]\n",
        "    sent3 = [\"Child\",\"is\",\"playing\",\"the\",\"guitar\"]\n",
        "    sent4 = [\"There\",\"was\",\"absolute\",\"silence\",\"during\",\"the\",\"play\"]\n",
        "    \n",
        "    counter=0\n",
        "    batch_xs = np.zeros((31,1024)) # of shape(tokens,embedding_dimension)\n",
        "    \n",
        "    for i in range(len(sent)):\n",
        "        batch_xs[counter] = sess.run(embeddings[0][i])\n",
        "        counter = counter+1    \n",
        "    counter = len(sent) \n",
        "    for i in range(len(sent1)):\n",
        "        batch_xs[counter] = sess.run(embeddings[0][i])\n",
        "        counter = counter+1\n",
        "    counter = len(sent)+len(sent1)\n",
        "    for i in range(len(sent2)):\n",
        "        batch_xs[counter] = sess.run(embeddings[0][i])\n",
        "        counter = counter+1\n",
        "    counter = len(sent)+len(sent1)+len(sent2)\n",
        "    for i in range(len(sent3)):\n",
        "        batch_xs[counter] = sess.run(embeddings[0][i])\n",
        "        counter = counter+1\n",
        "    counter = len(sent)  \n",
        "    for i in range(len(sent4)):\n",
        "        batch_xs[counter] = sess.run(embeddings[0][i])\n",
        "        counter = counter+1\n",
        "    return batch_xs"
      ],
      "execution_count": 0,
      "outputs": []
    },
    {
      "cell_type": "markdown",
      "metadata": {
        "id": "5gVkV8Y36uud",
        "colab_type": "text"
      },
      "source": [
        "- **Specifying the log_directory** <br>\n",
        "    The log_directory is the location where you save the metadata.tsv and where all the       checkpoints will get created.\n",
        "    \n",
        "    \n",
        "- **Creating the metadata.tsv** <br>\n",
        "    This is a file which contains the index and token separated by a tab."
      ]
    },
    {
      "cell_type": "code",
      "metadata": {
        "id": "YtUU78-l6uud",
        "colab_type": "code",
        "colab": {}
      },
      "source": [
        "token_list = [\"Argentina\", \"played\", \"football\", \"very\", \"well\",\"Brazil\",\"is\",\"a\",\"strong\",\n",
        "              \"team\",\"Artists\",\"all\",\"over\",\"the\",\"world\",\"are\",\"attending\",\"the\",\"play\",\n",
        "              \"Child\",\"is\",\"playing\",\"the\",\"guitar\",\"There\",\"was\",\"absolute\",\"silence\",\n",
        "              \"during\",\"the\",\"play\"]"
      ],
      "execution_count": 0,
      "outputs": []
    },
    {
      "cell_type": "code",
      "metadata": {
        "id": "lszFJKcr6uuf",
        "colab_type": "code",
        "colab": {}
      },
      "source": [
        "with open('Elmo_metadata.tsv','w') as f:\n",
        "    f.write(\"Index\\tLabel\\n\")\n",
        "    for index,label in enumerate(token_list):\n",
        "        f.write(\"%d\\t%s\\n\" % (index,label))"
      ],
      "execution_count": 0,
      "outputs": []
    },
    {
      "cell_type": "code",
      "metadata": {
        "id": "r68XPk966uuj",
        "colab_type": "code",
        "colab": {}
      },
      "source": [
        "import os\n",
        "LOG_DIR = 'log_dir'\n",
        "NAME_TO_VISUALISE_VARIABLE = \"elmoembedding\"\n",
        "TO_EMBED_COUNT = 25\n",
        "\n",
        "\n",
        "#path_for_mnist_sprites =  os.path.join(LOG_DIR,'mnistdigits.png')\n",
        "path_for_elmo_metadata =  os.path.join(LOG_DIR,'Elmo_metadata.tsv')"
      ],
      "execution_count": 0,
      "outputs": []
    },
    {
      "cell_type": "code",
      "metadata": {
        "id": "xvyAJkFk-i6N",
        "colab_type": "code",
        "colab": {}
      },
      "source": [
        "batch_x = prepare_batch()"
      ],
      "execution_count": 0,
      "outputs": []
    },
    {
      "cell_type": "code",
      "metadata": {
        "id": "AFQ3m-zi6uul",
        "colab_type": "code",
        "colab": {}
      },
      "source": [
        "embedding_var = tf.Variable(batch_x, name=NAME_TO_VISUALISE_VARIABLE)\n",
        "summary_writer = tf.summary.FileWriter(LOG_DIR)"
      ],
      "execution_count": 0,
      "outputs": []
    },
    {
      "cell_type": "code",
      "metadata": {
        "id": "u0svd0CE6uun",
        "colab_type": "code",
        "colab": {}
      },
      "source": [
        "config = projector.ProjectorConfig()\n",
        "embedding = config.embeddings.add()\n",
        "embedding.tensor_name = embedding_var.name\n",
        "\n",
        "# Specify where you find the metadata\n",
        "embedding.metadata_path = 'Elmo_metadata.tsv' #'metadata.tsv'\n",
        "\n",
        "# Say that you want to visualise the embeddings\n",
        "projector.visualize_embeddings(summary_writer, config)"
      ],
      "execution_count": 0,
      "outputs": []
    },
    {
      "cell_type": "code",
      "metadata": {
        "id": "Xr4PTAts6uuo",
        "colab_type": "code",
        "colab": {
          "base_uri": "https://localhost:8080/",
          "height": 35
        },
        "outputId": "bf98274f-3d54-44c1-8db7-23b28fdfae8d"
      },
      "source": [
        "sess = tf.InteractiveSession()\n",
        "sess.run(tf.global_variables_initializer())\n",
        "saver = tf.train.Saver()\n",
        "saver.save(sess, os.path.join(LOG_DIR, \"model.ckpt\"), 1)"
      ],
      "execution_count": 19,
      "outputs": [
        {
          "output_type": "execute_result",
          "data": {
            "text/plain": [
              "'log_dir/model.ckpt-1'"
            ]
          },
          "metadata": {
            "tags": []
          },
          "execution_count": 19
        }
      ]
    },
    {
      "cell_type": "code",
      "metadata": {
        "id": "q3pwlzrq-3V-",
        "colab_type": "code",
        "colab": {
          "base_uri": "https://localhost:8080/",
          "height": 52
        },
        "outputId": "37a4aa32-223b-43c8-ad67-849b2aa93a9a"
      },
      "source": [
        "!tensorboard --logdir=LOG_DIR"
      ],
      "execution_count": 20,
      "outputs": [
        {
          "output_type": "stream",
          "text": [
            "TensorBoard 1.13.1 at http://c420b7d05d1a:6006 (Press CTRL+C to quit)\n",
            "^C\n"
          ],
          "name": "stdout"
        }
      ]
    },
    {
      "cell_type": "markdown",
      "metadata": {
        "id": "hJmPC0O66uur",
        "colab_type": "text"
      },
      "source": [
        "### Running tensorboard :\n",
        "\n",
        "    tensorboard --logdir=\"your_log_directory\"\n",
        "    \n",
        "Tensorboard will be running at: http://localhost:6006 \n"
      ]
    },
    {
      "cell_type": "markdown",
      "metadata": {
        "id": "WZuS4KEj6uus",
        "colab_type": "text"
      },
      "source": [
        "\n",
        "\n",
        "\n",
        "\n",
        "\n",
        "# Training Elmo Model on new data:\n",
        "\n",
        "\n",
        "\n",
        "To train and evaluate a biLM, you need to provide:\n",
        "\n",
        "    a vocabulary file \n",
        "    a set of training files \n",
        "    a set of heldout files \n",
        "\n",
        "The vocabulary file is a a text file with one token per line. It must also include the special tokens <S>, </S> and <UNK> (case sensitive) in the file.\n",
        "\n",
        "The vocabulary file should be sorted in descending order by token count in your training data. The first three lines should be the special tokens (<S>, </S> and <UNK>), then the most common token in the training data, ending with the least common token.\n",
        "\n",
        "The training data should be randomly split into many training files, each containing one slice of the data. Each file contains pre-tokenized and white space separated text, one sentence per line. Don't include the <S> or </S> tokens in your training data.\n",
        "\n",
        "\n",
        "Once done, git clone https://github.com/allenai/bilm-tf.git \n",
        "and run:\n",
        "\n",
        "    python bin/train_elmo.py --train_prefix= <path to training folder> --vocab_file <path to vocab file> --save_dir <path where models will be checkpointed>\n",
        "    \n",
        "To get the weights file, run:\n",
        "    \n",
        "    python bin/dump_weights.py --save_dir /output_path/to/checkpoint --outfile/output_path/to/weights.hdf5\n",
        "    \n",
        "    \n",
        "In the save dir, one options.json will be dumped and above command will give you a weights file required to create an Elmo model (options file and json file)\n",
        "\n",
        "### To use Elmo programatically :\n",
        "\n",
        "from allennlp.modules.elmo import Elmo, batch_to_ids\n",
        "\n",
        "options_file = \"path to options file\" <br>\n",
        "weight_file = \"path to weights file\"\n",
        "\n",
        "elmo = Elmo(options_file, weight_file, 2, dropout=0)\n",
        "\n",
        "2 is an integer which represents ``num_output_representations``.\n",
        "Typically ``num_output_representations`` is 1 or 2.  For example, in the case of the SRL model in the above paper, ``num_output_representations=1`` where ELMo was included at\n",
        "the input token representation layer.  In the case of the SQuAD model,``num_output_representations=2``as ELMo was also included at the GRU output layer.\n",
        "\n",
        "\n",
        "use batch_to_ids to convert sentences to character ids:\n",
        "\n",
        "    sentences = [['First', 'sentence', '.'], ['Another', '.']]\n",
        "    character_ids = batch_to_ids(sentences)\n",
        "\n",
        "    embeddings = elmo(character_ids)\n",
        "\n",
        "    embeddings[elmo] is length two list of tensors. \n",
        "    Each element contains one layer of ELMo representations with shape\n",
        "    (2, 3, 1024).\n",
        "\n",
        "    \n",
        "    关于中文语料的模型训练，参考[这篇博文](http://www.linzehui.me/2018/08/12/%E7%A2%8E%E7%89%87%E7%9F%A5%E8%AF%86/%E5%A6%82%E4%BD%95%E5%B0%86ELMo%E8%AF%8D%E5%90%91%E9%87%8F%E7%94%A8%E4%BA%8E%E4%B8%AD%E6%96%87/)\n"
      ]
    },
    {
      "cell_type": "markdown",
      "metadata": {
        "id": "lSrYQrwH6uus",
        "colab_type": "text"
      },
      "source": [
        "# Incremental Learning\n",
        "\n",
        "In order to do the incremental learning, one would want to update an existing weights file based on new vocab file. The previously checkpointed file will have a different structure given the different vocab size. \n",
        "\n",
        "See: https://github.com/tensorflow/nmt/issues/134 \n",
        "\n",
        "### The problem:\n",
        "We have trained a model and created the checkpoint and have a saved weights file. We have new data with new vocab file and we create the same model structure. Now when we try to load the weights from the checkpointed file you may encounter an error:\n",
        "\n",
        "**tensor shape mis-match** \n",
        "\n",
        "The most likely reason being the vocab size mis match and hence loading the weights of the embedding layer from checkpointed file(x,y) will not align with shape of the new model structure (embedding layer (m,y)) and hence will be a problem.\n",
        "\n",
        "### Solution\n",
        "Load all the layers weights except for the embedding layer and learn the weights of the embedding during the new training process.\n",
        "\n",
        "train with the same command as above with a new parameter:\n",
        "\n",
        "    python bin/train_elmo_updated.py --train_prefix= <path to training folder> --vocab_file <path to vocab file> --save_dir <path where models will be checkpointed> --restart_ckpt_file <path to checkpointed model>\n",
        "     \n",
        "replace the _training.py_ within _bilm_ with the updated _training_updated.py attached at _home_\n",
        "\n",
        "In the _train_elmo_updated.py_ within _bin_, set these options based on your data:\n",
        "\n",
        "    batch_size = 128  # batch size for each GPU\n",
        "    n_gpus = 3\n",
        "\n",
        "    # number of tokens in training data \n",
        "    n_train_tokens = \n",
        "\n",
        "    options = {\n",
        "     'bidirectional': True,\n",
        "     'dropout': 0.1,\n",
        "     'all_clip_norm_val': 10.0,\n",
        "    \n",
        "     'n_epochs': 10,\n",
        "     'n_train_tokens': n_train_tokens,\n",
        "     'batch_size': batch_size,\n",
        "     'n_tokens_vocab': vocab.size,\n",
        "     'unroll_steps': 20,\n",
        "     'n_negative_samples_batch': 8192,\n",
        "\n",
        "NOTE: Try running the training on a gpu as recommended, else the training will be slow.\n",
        "\n",
        "\n",
        "\n",
        "\n"
      ]
    },
    {
      "cell_type": "markdown",
      "metadata": {
        "id": "wA4cqI8M6uut",
        "colab_type": "text"
      },
      "source": [
        "## Errors\n",
        "\n",
        "Errors you may run into:\n",
        "\n",
        "  **Cudnn_internal_status_error**<br>\n",
        "  **failed to enqueue convolution/max pooling on stream** <br>\n",
        "     \n",
        "#### Solution\n",
        "     try reducing the no. of paramters -  lesser batch size etc.\n",
        "     \n",
        "Kindly let me know more in the issues section if theres any.\n",
        "  "
      ]
    },
    {
      "cell_type": "markdown",
      "metadata": {
        "id": "F6SyYOfg6uuu",
        "colab_type": "text"
      },
      "source": [
        "### Using Elmo Embedding layer in consequent models\n",
        "\n",
        "if you want to use Elmo Embedding layer in consequent model build refer :\n",
        "https://github.com/PrashantRanjan09/WordEmbeddings-Elmo-Fasttext-Word2Vec "
      ]
    },
    {
      "cell_type": "markdown",
      "metadata": {
        "id": "K6BKsAiyHfjA",
        "colab_type": "text"
      },
      "source": [
        "# ELMo模型迁移\n",
        "ELMo模型可以很容易的嵌入到网络结构当中，加载 ELMo 预训练模型参数， 基于ELMo 字典 将输入数据转化为  ELMo embedding"
      ]
    },
    {
      "cell_type": "code",
      "metadata": {
        "id": "7-m-JVUSJPz-",
        "colab_type": "code",
        "colab": {}
      },
      "source": [
        ""
      ],
      "execution_count": 0,
      "outputs": []
    }
  ]
}